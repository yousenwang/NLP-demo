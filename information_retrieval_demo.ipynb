{
  "nbformat": 4,
  "nbformat_minor": 0,
  "metadata": {
    "colab": {
      "provenance": [],
      "authorship_tag": "ABX9TyMaBcJmISS200tIQgT9A4L4",
      "include_colab_link": true
    },
    "kernelspec": {
      "name": "python3",
      "display_name": "Python 3"
    },
    "language_info": {
      "name": "python"
    }
  },
  "cells": [
    {
      "cell_type": "markdown",
      "metadata": {
        "id": "view-in-github",
        "colab_type": "text"
      },
      "source": [
        "<a href=\"https://colab.research.google.com/github/yousenwang/information-retrieval/blob/main/information_retrieval_demo.ipynb\" target=\"_parent\"><img src=\"https://colab.research.google.com/assets/colab-badge.svg\" alt=\"Open In Colab\"/></a>"
      ]
    },
    {
      "cell_type": "markdown",
      "source": [
        "# Information Retrieval\n",
        "\n",
        "# Outline\n",
        "\n",
        "- TFIDF (Term Frequency Inverse Document Frequency)\n",
        "- KD Tree (K - Dimensional Tree)\n",
        "\n",
        "# TFIDF\n",
        "- Term Frequency Inverse Document Frequency\n",
        "\n",
        "- TF * IDF\n",
        "\n",
        "- TF \n",
        "  - 一個字的重要性取決於它在該文章出現多少次。\n",
        "- IDF\n",
        "  - 一個字出現在所有文章中越多次代表其文章的代表性是低的，所以要取倒數。\n",
        "  - 一個字越有文章代表性，其全部Document Frequency就會對低。\n",
        "\n",
        "# KDTree\n",
        "\n",
        "- K - Dimensional Tree"
      ],
      "metadata": {
        "id": "rHliRyxfLtP0"
      }
    },
    {
      "cell_type": "code",
      "execution_count": 52,
      "metadata": {
        "id": "n9_v5--VwUFe"
      },
      "outputs": [],
      "source": [
        "import pandas as pd\n",
        "import nltk\n",
        "from sklearn.feature_extraction.text import TfidfVectorizer\n",
        "from sklearn.neighbors import KDTree"
      ]
    },
    {
      "cell_type": "code",
      "source": [
        "faq = pd.read_csv('english_FAQ.csv')"
      ],
      "metadata": {
        "id": "rEm5hgnRLqEC"
      },
      "execution_count": 10,
      "outputs": []
    },
    {
      "cell_type": "code",
      "source": [
        "faq.head()"
      ],
      "metadata": {
        "colab": {
          "base_uri": "https://localhost:8080/",
          "height": 337
        },
        "id": "yjHzdiXeNFo0",
        "outputId": "6ea72d05-1b9d-4964-b6d6-882a35c0b037"
      },
      "execution_count": 11,
      "outputs": [
        {
          "output_type": "execute_result",
          "data": {
            "text/plain": [
              "                                            question  \\\n",
              "0         How to jump to the specified work station?   \n",
              "1  How to deal with the discrepancy between the r...   \n",
              "2  How to modify the content of the label printed...   \n",
              "3  How to upgrade Product SN after replacing spar...   \n",
              "4        How to work with multiple product failures?   \n",
              "\n",
              "                                               reply  \\\n",
              "0  You need to log in the administrator account, ...   \n",
              "1  Background of Service Center -> Receiving and ...   \n",
              "2  The service center can contact the manufacture...   \n",
              "3  Click `Parts Replacement` to enter the spare p...   \n",
              "4  During the operation of service center, the [W...   \n",
              "\n",
              "                                    Similar question  \n",
              "0  How to return to the previous station? / How c...  \n",
              "1  How to deal with the discrepancy? / What if th...  \n",
              "2  Can the content of the label printed by the wo...  \n",
              "3  How to upgrade the SN after replacing the PCBA...  \n",
              "4  Meet a variety of bad how to deal with? How to...  "
            ],
            "text/html": [
              "\n",
              "  <div id=\"df-3d7087b9-0816-408f-b5ce-df0a9e6637e4\">\n",
              "    <div class=\"colab-df-container\">\n",
              "      <div>\n",
              "<style scoped>\n",
              "    .dataframe tbody tr th:only-of-type {\n",
              "        vertical-align: middle;\n",
              "    }\n",
              "\n",
              "    .dataframe tbody tr th {\n",
              "        vertical-align: top;\n",
              "    }\n",
              "\n",
              "    .dataframe thead th {\n",
              "        text-align: right;\n",
              "    }\n",
              "</style>\n",
              "<table border=\"1\" class=\"dataframe\">\n",
              "  <thead>\n",
              "    <tr style=\"text-align: right;\">\n",
              "      <th></th>\n",
              "      <th>question</th>\n",
              "      <th>reply</th>\n",
              "      <th>Similar question</th>\n",
              "    </tr>\n",
              "  </thead>\n",
              "  <tbody>\n",
              "    <tr>\n",
              "      <th>0</th>\n",
              "      <td>How to jump to the specified work station?</td>\n",
              "      <td>You need to log in the administrator account, ...</td>\n",
              "      <td>How to return to the previous station? / How c...</td>\n",
              "    </tr>\n",
              "    <tr>\n",
              "      <th>1</th>\n",
              "      <td>How to deal with the discrepancy between the r...</td>\n",
              "      <td>Background of Service Center -&gt; Receiving and ...</td>\n",
              "      <td>How to deal with the discrepancy? / What if th...</td>\n",
              "    </tr>\n",
              "    <tr>\n",
              "      <th>2</th>\n",
              "      <td>How to modify the content of the label printed...</td>\n",
              "      <td>The service center can contact the manufacture...</td>\n",
              "      <td>Can the content of the label printed by the wo...</td>\n",
              "    </tr>\n",
              "    <tr>\n",
              "      <th>3</th>\n",
              "      <td>How to upgrade Product SN after replacing spar...</td>\n",
              "      <td>Click `Parts Replacement` to enter the spare p...</td>\n",
              "      <td>How to upgrade the SN after replacing the PCBA...</td>\n",
              "    </tr>\n",
              "    <tr>\n",
              "      <th>4</th>\n",
              "      <td>How to work with multiple product failures?</td>\n",
              "      <td>During the operation of service center, the [W...</td>\n",
              "      <td>Meet a variety of bad how to deal with? How to...</td>\n",
              "    </tr>\n",
              "  </tbody>\n",
              "</table>\n",
              "</div>\n",
              "      <button class=\"colab-df-convert\" onclick=\"convertToInteractive('df-3d7087b9-0816-408f-b5ce-df0a9e6637e4')\"\n",
              "              title=\"Convert this dataframe to an interactive table.\"\n",
              "              style=\"display:none;\">\n",
              "        \n",
              "  <svg xmlns=\"http://www.w3.org/2000/svg\" height=\"24px\"viewBox=\"0 0 24 24\"\n",
              "       width=\"24px\">\n",
              "    <path d=\"M0 0h24v24H0V0z\" fill=\"none\"/>\n",
              "    <path d=\"M18.56 5.44l.94 2.06.94-2.06 2.06-.94-2.06-.94-.94-2.06-.94 2.06-2.06.94zm-11 1L8.5 8.5l.94-2.06 2.06-.94-2.06-.94L8.5 2.5l-.94 2.06-2.06.94zm10 10l.94 2.06.94-2.06 2.06-.94-2.06-.94-.94-2.06-.94 2.06-2.06.94z\"/><path d=\"M17.41 7.96l-1.37-1.37c-.4-.4-.92-.59-1.43-.59-.52 0-1.04.2-1.43.59L10.3 9.45l-7.72 7.72c-.78.78-.78 2.05 0 2.83L4 21.41c.39.39.9.59 1.41.59.51 0 1.02-.2 1.41-.59l7.78-7.78 2.81-2.81c.8-.78.8-2.07 0-2.86zM5.41 20L4 18.59l7.72-7.72 1.47 1.35L5.41 20z\"/>\n",
              "  </svg>\n",
              "      </button>\n",
              "      \n",
              "  <style>\n",
              "    .colab-df-container {\n",
              "      display:flex;\n",
              "      flex-wrap:wrap;\n",
              "      gap: 12px;\n",
              "    }\n",
              "\n",
              "    .colab-df-convert {\n",
              "      background-color: #E8F0FE;\n",
              "      border: none;\n",
              "      border-radius: 50%;\n",
              "      cursor: pointer;\n",
              "      display: none;\n",
              "      fill: #1967D2;\n",
              "      height: 32px;\n",
              "      padding: 0 0 0 0;\n",
              "      width: 32px;\n",
              "    }\n",
              "\n",
              "    .colab-df-convert:hover {\n",
              "      background-color: #E2EBFA;\n",
              "      box-shadow: 0px 1px 2px rgba(60, 64, 67, 0.3), 0px 1px 3px 1px rgba(60, 64, 67, 0.15);\n",
              "      fill: #174EA6;\n",
              "    }\n",
              "\n",
              "    [theme=dark] .colab-df-convert {\n",
              "      background-color: #3B4455;\n",
              "      fill: #D2E3FC;\n",
              "    }\n",
              "\n",
              "    [theme=dark] .colab-df-convert:hover {\n",
              "      background-color: #434B5C;\n",
              "      box-shadow: 0px 1px 3px 1px rgba(0, 0, 0, 0.15);\n",
              "      filter: drop-shadow(0px 1px 2px rgba(0, 0, 0, 0.3));\n",
              "      fill: #FFFFFF;\n",
              "    }\n",
              "  </style>\n",
              "\n",
              "      <script>\n",
              "        const buttonEl =\n",
              "          document.querySelector('#df-3d7087b9-0816-408f-b5ce-df0a9e6637e4 button.colab-df-convert');\n",
              "        buttonEl.style.display =\n",
              "          google.colab.kernel.accessAllowed ? 'block' : 'none';\n",
              "\n",
              "        async function convertToInteractive(key) {\n",
              "          const element = document.querySelector('#df-3d7087b9-0816-408f-b5ce-df0a9e6637e4');\n",
              "          const dataTable =\n",
              "            await google.colab.kernel.invokeFunction('convertToInteractive',\n",
              "                                                     [key], {});\n",
              "          if (!dataTable) return;\n",
              "\n",
              "          const docLinkHtml = 'Like what you see? Visit the ' +\n",
              "            '<a target=\"_blank\" href=https://colab.research.google.com/notebooks/data_table.ipynb>data table notebook</a>'\n",
              "            + ' to learn more about interactive tables.';\n",
              "          element.innerHTML = '';\n",
              "          dataTable['output_type'] = 'display_data';\n",
              "          await google.colab.output.renderOutput(dataTable, element);\n",
              "          const docLink = document.createElement('div');\n",
              "          docLink.innerHTML = docLinkHtml;\n",
              "          element.appendChild(docLink);\n",
              "        }\n",
              "      </script>\n",
              "    </div>\n",
              "  </div>\n",
              "  "
            ]
          },
          "metadata": {},
          "execution_count": 11
        }
      ]
    },
    {
      "cell_type": "code",
      "source": [],
      "metadata": {
        "id": "PSNHSYeDSxNX"
      },
      "execution_count": 19,
      "outputs": []
    },
    {
      "cell_type": "markdown",
      "source": [
        "# 訓練: 目前數據只輸入回覆內容；無問題\n"
      ],
      "metadata": {
        "id": "5stN40_UW6g_"
      }
    },
    {
      "cell_type": "code",
      "source": [
        "tfidf = TfidfVectorizer().fit(faq['reply'])\n",
        "train_tfidf = tfidf.transform(faq.reply)\n",
        "train = train_tfidf.toarray()\n",
        "faq[\"tfidf\"] = list(train)"
      ],
      "metadata": {
        "id": "1z2KXnl1NWeS"
      },
      "execution_count": 79,
      "outputs": []
    },
    {
      "cell_type": "code",
      "source": [
        "faq.head()"
      ],
      "metadata": {
        "colab": {
          "base_uri": "https://localhost:8080/",
          "height": 337
        },
        "id": "rx9GFgWKSdpG",
        "outputId": "40bc459e-5097-4367-e3d4-fbf15a0b4c7b"
      },
      "execution_count": 29,
      "outputs": [
        {
          "output_type": "execute_result",
          "data": {
            "text/plain": [
              "                                            question  \\\n",
              "0         How to jump to the specified work station?   \n",
              "1  How to deal with the discrepancy between the r...   \n",
              "2  How to modify the content of the label printed...   \n",
              "3  How to upgrade Product SN after replacing spar...   \n",
              "4        How to work with multiple product failures?   \n",
              "\n",
              "                                               reply  \\\n",
              "0  You need to log in the administrator account, ...   \n",
              "1  Background of Service Center -> Receiving and ...   \n",
              "2  The service center can contact the manufacture...   \n",
              "3  Click `Parts Replacement` to enter the spare p...   \n",
              "4  During the operation of service center, the [W...   \n",
              "\n",
              "                                    Similar question  \\\n",
              "0  How to return to the previous station? / How c...   \n",
              "1  How to deal with the discrepancy? / What if th...   \n",
              "2  Can the content of the label printed by the wo...   \n",
              "3  How to upgrade the SN after replacing the PCBA...   \n",
              "4  Meet a variety of bad how to deal with? How to...   \n",
              "\n",
              "                                               tfidf  \n",
              "0  [0.0, 0.13059249446406113, 0.0, 0.153621717161...  \n",
              "1  [0.0, 0.0, 0.0, 0.0, 0.0, 0.13140786205855845,...  \n",
              "2  [0.0, 0.0, 0.0, 0.0, 0.0, 0.0, 0.0, 0.0, 0.0, ...  \n",
              "3  [0.0, 0.0, 0.0, 0.0, 0.10546317532403915, 0.0,...  \n",
              "4  [0.3052216076243383, 0.0, 0.15261080381216915,...  "
            ],
            "text/html": [
              "\n",
              "  <div id=\"df-00b66eb0-cbec-41cf-803b-cc6ec7bfe67e\">\n",
              "    <div class=\"colab-df-container\">\n",
              "      <div>\n",
              "<style scoped>\n",
              "    .dataframe tbody tr th:only-of-type {\n",
              "        vertical-align: middle;\n",
              "    }\n",
              "\n",
              "    .dataframe tbody tr th {\n",
              "        vertical-align: top;\n",
              "    }\n",
              "\n",
              "    .dataframe thead th {\n",
              "        text-align: right;\n",
              "    }\n",
              "</style>\n",
              "<table border=\"1\" class=\"dataframe\">\n",
              "  <thead>\n",
              "    <tr style=\"text-align: right;\">\n",
              "      <th></th>\n",
              "      <th>question</th>\n",
              "      <th>reply</th>\n",
              "      <th>Similar question</th>\n",
              "      <th>tfidf</th>\n",
              "    </tr>\n",
              "  </thead>\n",
              "  <tbody>\n",
              "    <tr>\n",
              "      <th>0</th>\n",
              "      <td>How to jump to the specified work station?</td>\n",
              "      <td>You need to log in the administrator account, ...</td>\n",
              "      <td>How to return to the previous station? / How c...</td>\n",
              "      <td>[0.0, 0.13059249446406113, 0.0, 0.153621717161...</td>\n",
              "    </tr>\n",
              "    <tr>\n",
              "      <th>1</th>\n",
              "      <td>How to deal with the discrepancy between the r...</td>\n",
              "      <td>Background of Service Center -&gt; Receiving and ...</td>\n",
              "      <td>How to deal with the discrepancy? / What if th...</td>\n",
              "      <td>[0.0, 0.0, 0.0, 0.0, 0.0, 0.13140786205855845,...</td>\n",
              "    </tr>\n",
              "    <tr>\n",
              "      <th>2</th>\n",
              "      <td>How to modify the content of the label printed...</td>\n",
              "      <td>The service center can contact the manufacture...</td>\n",
              "      <td>Can the content of the label printed by the wo...</td>\n",
              "      <td>[0.0, 0.0, 0.0, 0.0, 0.0, 0.0, 0.0, 0.0, 0.0, ...</td>\n",
              "    </tr>\n",
              "    <tr>\n",
              "      <th>3</th>\n",
              "      <td>How to upgrade Product SN after replacing spar...</td>\n",
              "      <td>Click `Parts Replacement` to enter the spare p...</td>\n",
              "      <td>How to upgrade the SN after replacing the PCBA...</td>\n",
              "      <td>[0.0, 0.0, 0.0, 0.0, 0.10546317532403915, 0.0,...</td>\n",
              "    </tr>\n",
              "    <tr>\n",
              "      <th>4</th>\n",
              "      <td>How to work with multiple product failures?</td>\n",
              "      <td>During the operation of service center, the [W...</td>\n",
              "      <td>Meet a variety of bad how to deal with? How to...</td>\n",
              "      <td>[0.3052216076243383, 0.0, 0.15261080381216915,...</td>\n",
              "    </tr>\n",
              "  </tbody>\n",
              "</table>\n",
              "</div>\n",
              "      <button class=\"colab-df-convert\" onclick=\"convertToInteractive('df-00b66eb0-cbec-41cf-803b-cc6ec7bfe67e')\"\n",
              "              title=\"Convert this dataframe to an interactive table.\"\n",
              "              style=\"display:none;\">\n",
              "        \n",
              "  <svg xmlns=\"http://www.w3.org/2000/svg\" height=\"24px\"viewBox=\"0 0 24 24\"\n",
              "       width=\"24px\">\n",
              "    <path d=\"M0 0h24v24H0V0z\" fill=\"none\"/>\n",
              "    <path d=\"M18.56 5.44l.94 2.06.94-2.06 2.06-.94-2.06-.94-.94-2.06-.94 2.06-2.06.94zm-11 1L8.5 8.5l.94-2.06 2.06-.94-2.06-.94L8.5 2.5l-.94 2.06-2.06.94zm10 10l.94 2.06.94-2.06 2.06-.94-2.06-.94-.94-2.06-.94 2.06-2.06.94z\"/><path d=\"M17.41 7.96l-1.37-1.37c-.4-.4-.92-.59-1.43-.59-.52 0-1.04.2-1.43.59L10.3 9.45l-7.72 7.72c-.78.78-.78 2.05 0 2.83L4 21.41c.39.39.9.59 1.41.59.51 0 1.02-.2 1.41-.59l7.78-7.78 2.81-2.81c.8-.78.8-2.07 0-2.86zM5.41 20L4 18.59l7.72-7.72 1.47 1.35L5.41 20z\"/>\n",
              "  </svg>\n",
              "      </button>\n",
              "      \n",
              "  <style>\n",
              "    .colab-df-container {\n",
              "      display:flex;\n",
              "      flex-wrap:wrap;\n",
              "      gap: 12px;\n",
              "    }\n",
              "\n",
              "    .colab-df-convert {\n",
              "      background-color: #E8F0FE;\n",
              "      border: none;\n",
              "      border-radius: 50%;\n",
              "      cursor: pointer;\n",
              "      display: none;\n",
              "      fill: #1967D2;\n",
              "      height: 32px;\n",
              "      padding: 0 0 0 0;\n",
              "      width: 32px;\n",
              "    }\n",
              "\n",
              "    .colab-df-convert:hover {\n",
              "      background-color: #E2EBFA;\n",
              "      box-shadow: 0px 1px 2px rgba(60, 64, 67, 0.3), 0px 1px 3px 1px rgba(60, 64, 67, 0.15);\n",
              "      fill: #174EA6;\n",
              "    }\n",
              "\n",
              "    [theme=dark] .colab-df-convert {\n",
              "      background-color: #3B4455;\n",
              "      fill: #D2E3FC;\n",
              "    }\n",
              "\n",
              "    [theme=dark] .colab-df-convert:hover {\n",
              "      background-color: #434B5C;\n",
              "      box-shadow: 0px 1px 3px 1px rgba(0, 0, 0, 0.15);\n",
              "      filter: drop-shadow(0px 1px 2px rgba(0, 0, 0, 0.3));\n",
              "      fill: #FFFFFF;\n",
              "    }\n",
              "  </style>\n",
              "\n",
              "      <script>\n",
              "        const buttonEl =\n",
              "          document.querySelector('#df-00b66eb0-cbec-41cf-803b-cc6ec7bfe67e button.colab-df-convert');\n",
              "        buttonEl.style.display =\n",
              "          google.colab.kernel.accessAllowed ? 'block' : 'none';\n",
              "\n",
              "        async function convertToInteractive(key) {\n",
              "          const element = document.querySelector('#df-00b66eb0-cbec-41cf-803b-cc6ec7bfe67e');\n",
              "          const dataTable =\n",
              "            await google.colab.kernel.invokeFunction('convertToInteractive',\n",
              "                                                     [key], {});\n",
              "          if (!dataTable) return;\n",
              "\n",
              "          const docLinkHtml = 'Like what you see? Visit the ' +\n",
              "            '<a target=\"_blank\" href=https://colab.research.google.com/notebooks/data_table.ipynb>data table notebook</a>'\n",
              "            + ' to learn more about interactive tables.';\n",
              "          element.innerHTML = '';\n",
              "          dataTable['output_type'] = 'display_data';\n",
              "          await google.colab.output.renderOutput(dataTable, element);\n",
              "          const docLink = document.createElement('div');\n",
              "          docLink.innerHTML = docLinkHtml;\n",
              "          element.appendChild(docLink);\n",
              "        }\n",
              "      </script>\n",
              "    </div>\n",
              "  </div>\n",
              "  "
            ]
          },
          "metadata": {},
          "execution_count": 29
        }
      ]
    },
    {
      "cell_type": "code",
      "source": [
        "faq['tfidf'][0].shape"
      ],
      "metadata": {
        "colab": {
          "base_uri": "https://localhost:8080/"
        },
        "id": "Ygj3hctITVJM",
        "outputId": "973f7d73-21bc-4fd5-9cf4-0c737eca58c9"
      },
      "execution_count": 30,
      "outputs": [
        {
          "output_type": "execute_result",
          "data": {
            "text/plain": [
              "(171,)"
            ]
          },
          "metadata": {},
          "execution_count": 30
        }
      ]
    },
    {
      "cell_type": "code",
      "source": [
        "kdtree = KDTree(train)"
      ],
      "metadata": {
        "id": "BIwxLWm5TaLt"
      },
      "execution_count": 66,
      "outputs": []
    },
    {
      "cell_type": "code",
      "source": [
        "print(faq.question[2])\n",
        "distance, idx = kdtree.query(faq.tfidf[2].reshape(1,-1), k=3)\n",
        "\n",
        "for i, value in list(enumerate(idx[0])):\n",
        "  print(f'question : {faq[\"question\"][value]}')\n",
        "  print(f'Distance : {distance[0][i]}')\n",
        "  print(f'reply : {faq[\"reply\"][value]}')"
      ],
      "metadata": {
        "colab": {
          "base_uri": "https://localhost:8080/"
        },
        "id": "vjgiV_vuTv-V",
        "outputId": "62e2223d-5fdc-45f3-e40f-bae520f2754c"
      },
      "execution_count": 38,
      "outputs": [
        {
          "output_type": "stream",
          "name": "stdout",
          "text": [
            "How to modify the content of the label printed in the station?\n",
            "question : How to modify the content of the label printed in the station?\n",
            "Distance : 0.0\n",
            "reply : The service center can contact the manufacturer to modify the label printing at the factory station. The maintenance service background of the factory -> Engineering Support -> the printing at the factory station. The label content can be modified by selecting the corresponding printing template.\n",
            "question : Where can I see the use record of spare parts?\n",
            "Distance : 1.1204617066588503\n",
            "reply : For example, in the process of operation in the station, you can check the replacement of spare parts of the product in the field of `Replacement Maintenance Record` of the repaired product information; In the background of the service center -> Engineering Support -> Spare Parts Management, select the corresponding manufacturer and click `Spare Parts Usage Record` to view the use of spare parts of the manufacturer in the service center.\n",
            "question : Where is the logistics waybill label printed?\n",
            "Distance : 1.1719179551010042\n",
            "reply : At the end of the case, if `Generate Waybill label` is checked, the system will automatically jump to goods receiving and sending -> Receiving and Sending Management -> Goods to be shipped. Click the `Print` button after each order to jump to the page of Waybill label for printing.\n"
          ]
        }
      ]
    },
    {
      "cell_type": "code",
      "source": [
        "import joblib"
      ],
      "metadata": {
        "id": "IbOI60EdUj2Z"
      },
      "execution_count": 39,
      "outputs": []
    },
    {
      "cell_type": "code",
      "source": [
        "joblib.dump(tfidf, 'trained_tfidf_vectorizer.pkl')\n",
        "joblib.dump(kdtree, 'trained_kd_tree.pkl')"
      ],
      "metadata": {
        "colab": {
          "base_uri": "https://localhost:8080/"
        },
        "id": "SZqiyO39VXCH",
        "outputId": "b928d2fc-0d00-467c-e9f2-01aeefed8bd6"
      },
      "execution_count": 47,
      "outputs": [
        {
          "output_type": "execute_result",
          "data": {
            "text/plain": [
              "['trained_kd_tree.pkl']"
            ]
          },
          "metadata": {},
          "execution_count": 47
        }
      ]
    },
    {
      "cell_type": "markdown",
      "source": [
        "# 預測: 輸入問題"
      ],
      "metadata": {
        "id": "OC0aITPWX2nV"
      }
    },
    {
      "cell_type": "code",
      "source": [
        "str_to_numerical = joblib.load('trained_tfidf_vectorizer.pkl')\n",
        "info_retrieve = joblib.load('trained_kd_tree.pkl')"
      ],
      "metadata": {
        "id": "KRPcQ8HZVmfB"
      },
      "execution_count": 48,
      "outputs": []
    },
    {
      "cell_type": "code",
      "source": [
        "question = [faq.question[2]]"
      ],
      "metadata": {
        "id": "OeULVoIAV4yJ"
      },
      "execution_count": 53,
      "outputs": []
    },
    {
      "cell_type": "code",
      "source": [
        "numerical = str_to_numerical.transform(question).toarray()\n",
        "\n",
        "distance, idx = info_retrieve.query(numerical, k=3)\n",
        "print(question)\n",
        "print(numerical.shape)\n",
        "\n",
        "for i, value in list(enumerate(idx[0])):\n",
        "  print(f'question : {faq[\"question\"][value]}')\n",
        "  print(f'Distance : {distance[0][i]}')\n",
        "  print(f'reply : {faq[\"reply\"][value]}')"
      ],
      "metadata": {
        "colab": {
          "base_uri": "https://localhost:8080/"
        },
        "id": "gZsFMX1mWCAr",
        "outputId": "af6d59d1-3165-4f20-ce69-dab005490f3c"
      },
      "execution_count": 54,
      "outputs": [
        {
          "output_type": "stream",
          "name": "stdout",
          "text": [
            "['How to modify the content of the label printed in the station?']\n",
            "(1, 171)\n",
            "question : How to modify the content of the label printed in the station?\n",
            "Distance : 0.938872278120583\n",
            "reply : The service center can contact the manufacturer to modify the label printing at the factory station. The maintenance service background of the factory -> Engineering Support -> the printing at the factory station. The label content can be modified by selecting the corresponding printing template.\n",
            "question : Where can I see the use record of spare parts?\n",
            "Distance : 1.0655491778976458\n",
            "reply : For example, in the process of operation in the station, you can check the replacement of spare parts of the product in the field of `Replacement Maintenance Record` of the repaired product information; In the background of the service center -> Engineering Support -> Spare Parts Management, select the corresponding manufacturer and click `Spare Parts Usage Record` to view the use of spare parts of the manufacturer in the service center.\n",
            "question : Where is the logistics waybill label printed?\n",
            "Distance : 1.1778984320856065\n",
            "reply : At the end of the case, if `Generate Waybill label` is checked, the system will automatically jump to goods receiving and sending -> Receiving and Sending Management -> Goods to be shipped. Click the `Print` button after each order to jump to the page of Waybill label for printing.\n"
          ]
        }
      ]
    },
    {
      "cell_type": "code",
      "source": [
        "ans = 0\n",
        "for k, _ in faq.question.items():\n",
        "\n",
        "  question = [faq.question[k]]\n",
        "  reply = [faq.reply[k]]\n",
        "  numerical = str_to_numerical.transform(question).toarray()\n",
        "\n",
        "  distance, idx = info_retrieve.query(numerical, k=1)\n",
        "  print(question)\n",
        "  print(reply)\n",
        "  print(numerical.shape)\n",
        "\n",
        "  for i, value in list(enumerate(idx[0])):\n",
        "    print(f'Predicted_Q : {faq[\"question\"][value]}')\n",
        "    print(f'Distance : {distance[0][i]}')\n",
        "    print(f'Predicted_Reply : {faq[\"reply\"][value]}')\n",
        "    print(question[0]==faq[\"question\"][value])\n",
        "    ans+= 1 if question[0]==faq[\"question\"][value] else 0\n",
        "  print(\"\\n\")"
      ],
      "metadata": {
        "colab": {
          "base_uri": "https://localhost:8080/"
        },
        "id": "HqWx5hj7Yc88",
        "outputId": "4b3ba7db-6333-49be-eb09-81abf62f0a5d"
      },
      "execution_count": 69,
      "outputs": [
        {
          "output_type": "stream",
          "name": "stdout",
          "text": [
            "['How to jump to the specified work station?']\n",
            "['You need to log in the administrator account, enter the service center background -> Schedule Control -> Schedule Maintenance, enter the `Warranty Item` page, select the corresponding product serial number, pull down the `Maintenance operation`, click `Schedule Maintenance`, and select `Skip to designated site` to skip.']\n",
            "(1, 171)\n",
            "Predicted_Q : How to set the products and stations that operators can work on?\n",
            "Distance : 1.1383577351791334\n",
            "Predicted_Reply : Service center background -> Service Settings -> Station Settings, select the operator, click [product Settings] to check the product, you can set the operator can work on the product; Click `Station Settings` to check `station Settings` to set the station that the operator can operate.\n",
            "False\n",
            "\n",
            "\n",
            "['How to deal with the discrepancy between the received repair products and the warranty application?']\n",
            "['Background of Service Center -> Receiving and Sending of goods -> Receiving and sending management. When receiving goods in the `Goods to be received` page, if the goods are not true, you can select the product and click `Delete`. The product information will be returned to the customer for confirmation, and the customer can submit the application again.']\n",
            "(1, 171)\n",
            "Predicted_Q : How to deal with the discrepancy between the received repair products and the warranty application?\n",
            "Distance : 1.1400709570802463\n",
            "Predicted_Reply : Background of Service Center -> Receiving and Sending of goods -> Receiving and sending management. When receiving goods in the `Goods to be received` page, if the goods are not true, you can select the product and click `Delete`. The product information will be returned to the customer for confirmation, and the customer can submit the application again.\n",
            "True\n",
            "\n",
            "\n",
            "['How to modify the content of the label printed in the station?']\n",
            "['The service center can contact the manufacturer to modify the label printing at the factory station. The maintenance service background of the factory -> Engineering Support -> the printing at the factory station. The label content can be modified by selecting the corresponding printing template.']\n",
            "(1, 171)\n",
            "Predicted_Q : How to modify the content of the label printed in the station?\n",
            "Distance : 0.938872278120583\n",
            "Predicted_Reply : The service center can contact the manufacturer to modify the label printing at the factory station. The maintenance service background of the factory -> Engineering Support -> the printing at the factory station. The label content can be modified by selecting the corresponding printing template.\n",
            "True\n",
            "\n",
            "\n",
            "['How to upgrade Product SN after replacing spare parts?']\n",
            "['Click `Parts Replacement` to enter the spare parts replacement page. After replacing PCBA, select `Upgrade SN` at the top of the page and select `Yes` to jump to the `Update and upgrade` page, enter/input the upgraded product serial number and material number, and complete the upgrade.']\n",
            "(1, 171)\n",
            "Predicted_Q : How to upgrade Product SN after replacing spare parts?\n",
            "Distance : 0.9826313777068789\n",
            "Predicted_Reply : Click `Parts Replacement` to enter the spare parts replacement page. After replacing PCBA, select `Upgrade SN` at the top of the page and select `Yes` to jump to the `Update and upgrade` page, enter/input the upgraded product serial number and material number, and complete the upgrade.\n",
            "True\n",
            "\n",
            "\n",
            "['How to work with multiple product failures?']\n",
            "['During the operation of service center, the [Work record] office can select the corresponding fault code several times according to the actual situation. After selecting different fault codes, the system will bring out different operation guidance, and operators can operate according to the operation guidance process.']\n",
            "(1, 171)\n",
            "Predicted_Q : How to set the products and stations that operators can work on?\n",
            "Distance : 1.221772560818596\n",
            "Predicted_Reply : Service center background -> Service Settings -> Station Settings, select the operator, click [product Settings] to check the product, you can set the operator can work on the product; Click `Station Settings` to check `station Settings` to set the station that the operator can operate.\n",
            "False\n",
            "\n",
            "\n",
            "['Where can I see the use record of spare parts?']\n",
            "['For example, in the process of operation in the station, you can check the replacement of spare parts of the product in the field of `Replacement Maintenance Record` of the repaired product information; In the background of the service center -> Engineering Support -> Spare Parts Management, select the corresponding manufacturer and click `Spare Parts Usage Record` to view the use of spare parts of the manufacturer in the service center.']\n",
            "(1, 171)\n",
            "Predicted_Q : Where can I see the use record of spare parts?\n",
            "Distance : 0.9341012422667222\n",
            "Predicted_Reply : For example, in the process of operation in the station, you can check the replacement of spare parts of the product in the field of `Replacement Maintenance Record` of the repaired product information; In the background of the service center -> Engineering Support -> Spare Parts Management, select the corresponding manufacturer and click `Spare Parts Usage Record` to view the use of spare parts of the manufacturer in the service center.\n",
            "True\n",
            "\n",
            "\n",
            "['How to set worker permissions?']\n",
            "['Service center background -> Basic Data -> Role management, you can set up roles, different roles assign different system operation rights, when registering the operator account, select its corresponding rights, so that the operator can only see their own work data.']\n",
            "(1, 171)\n",
            "Predicted_Q : How to set the products and stations that operators can work on?\n",
            "Distance : 1.219306078003217\n",
            "Predicted_Reply : Service center background -> Service Settings -> Station Settings, select the operator, click [product Settings] to check the product, you can set the operator can work on the product; Click `Station Settings` to check `station Settings` to set the station that the operator can operate.\n",
            "False\n",
            "\n",
            "\n",
            "['How to set the products and stations that operators can work on?']\n",
            "['Service center background -> Service Settings -> Station Settings, select the operator, click [product Settings] to check the product, you can set the operator can work on the product; Click `Station Settings` to check `station Settings` to set the station that the operator can operate.']\n",
            "(1, 171)\n",
            "Predicted_Q : How to set the products and stations that operators can work on?\n",
            "Distance : 1.1802394668131175\n",
            "Predicted_Reply : Service center background -> Service Settings -> Station Settings, select the operator, click [product Settings] to check the product, you can set the operator can work on the product; Click `Station Settings` to check `station Settings` to set the station that the operator can operate.\n",
            "True\n",
            "\n",
            "\n",
            "['Where is the logistics waybill label printed?']\n",
            "['At the end of the case, if `Generate Waybill label` is checked, the system will automatically jump to goods receiving and sending -> Receiving and Sending Management -> Goods to be shipped. Click the `Print` button after each order to jump to the page of Waybill label for printing.']\n",
            "(1, 171)\n",
            "Predicted_Q : Where is the logistics waybill label printed?\n",
            "Distance : 1.0372607381240155\n",
            "Predicted_Reply : At the end of the case, if `Generate Waybill label` is checked, the system will automatically jump to goods receiving and sending -> Receiving and Sending Management -> Goods to be shipped. Click the `Print` button after each order to jump to the page of Waybill label for printing.\n",
            "True\n",
            "\n",
            "\n",
            "['Can you remind priority work when the time is close to the specified time?']\n",
            "['When TAT is greater than or equal to 1 day but less than 2 days, TAT field in the service center background -> Custom page -> custom report will be marked yellow, when TAT is greater than 2 days will be marked red; At the same time, the system will send a list of products whose TAT is greater than or equal to one day up to the current date to the service center at a specific time every day to remind the service center of priority operations.']\n",
            "(1, 171)\n",
            "Predicted_Q : Can you remind priority work when the time is close to the specified time?\n",
            "Distance : 1.142815768445765\n",
            "Predicted_Reply : When TAT is greater than or equal to 1 day but less than 2 days, TAT field in the service center background -> Custom page -> custom report will be marked yellow, when TAT is greater than 2 days will be marked red; At the same time, the system will send a list of products whose TAT is greater than or equal to one day up to the current date to the service center at a specific time every day to remind the service center of priority operations.\n",
            "True\n",
            "\n",
            "\n"
          ]
        }
      ]
    },
    {
      "cell_type": "markdown",
      "source": [
        "# Evaluation: Accuary"
      ],
      "metadata": {
        "id": "OXyFef7jiKRG"
      }
    },
    {
      "cell_type": "code",
      "source": [
        "n = len(faq)\n",
        "print(ans)\n",
        "print(len(faq))\n",
        "print(ans/len(faq))"
      ],
      "metadata": {
        "colab": {
          "base_uri": "https://localhost:8080/"
        },
        "id": "DFQbrGilhwuv",
        "outputId": "92dacefb-5cc3-494b-bbbc-f925776765cf"
      },
      "execution_count": 83,
      "outputs": [
        {
          "output_type": "stream",
          "name": "stdout",
          "text": [
            "7\n",
            "10\n",
            "0.7\n"
          ]
        }
      ]
    },
    {
      "cell_type": "markdown",
      "source": [
        "# Reference\n",
        "\n",
        "- [Information Retrieval | NLTK | Day 06 | NLP Tutorial | Python](https://www.youtube.com/watch?v=4DJVB3FrcvY&list=PLl1gyDCKkiQTCdmjNcBQuPCOJxwAgBJu8&index=1&ab_channel=Learnbay)\n",
        "\n",
        "- https://scikit-learn.org/stable/modules/generated/sklearn.feature_extraction.text.TfidfTransformer.html#sklearn.feature_extraction.text.TfidfTransformer\n",
        "\n",
        "- KNN\n",
        "[https://scikit-learn.org/stable/modules/neighbors.html](https://scikit-learn.org/stable/modules/neighbors.html)\n",
        "- KD-Tree\n",
        "https://www.youtube.com/watch?v=1OoM0phlO_U&t=1s&ab_channel=OsirisSalazar\n"
      ],
      "metadata": {
        "id": "rVDdce32Lq4V"
      }
    },
    {
      "cell_type": "code",
      "source": [
        "tfidf.get_feature_names_out().shape"
      ],
      "metadata": {
        "colab": {
          "base_uri": "https://localhost:8080/"
        },
        "id": "kOVGV9nMXi3R",
        "outputId": "4c50be07-308d-4112-9cf7-70032cb51a0d"
      },
      "execution_count": 74,
      "outputs": [
        {
          "output_type": "execute_result",
          "data": {
            "text/plain": [
              "(171,)"
            ]
          },
          "metadata": {},
          "execution_count": 74
        }
      ]
    },
    {
      "cell_type": "code",
      "source": [
        "tfidf.get_feature_names_out()"
      ],
      "metadata": {
        "colab": {
          "base_uri": "https://localhost:8080/"
        },
        "id": "0c48FW28jjB8",
        "outputId": "eb9c5943-7674-4b9c-f620-67792109c12f"
      },
      "execution_count": 75,
      "outputs": [
        {
          "output_type": "execute_result",
          "data": {
            "text/plain": [
              "array(['according', 'account', 'actual', 'administrator', 'after',\n",
              "       'again', 'and', 'application', 'are', 'assign', 'at',\n",
              "       'automatically', 'background', 'basic', 'be', 'bring', 'but',\n",
              "       'button', 'by', 'can', 'case', 'center', 'check', 'checked',\n",
              "       'click', 'code', 'codes', 'complete', 'confirmation', 'contact',\n",
              "       'content', 'control', 'corresponding', 'current', 'custom',\n",
              "       'customer', 'data', 'date', 'day', 'days', 'delete', 'designated',\n",
              "       'different', 'down', 'during', 'each', 'end', 'engineering',\n",
              "       'enter', 'equal', 'every', 'example', 'factory', 'fault', 'field',\n",
              "       'for', 'generate', 'goods', 'greater', 'guidance', 'if', 'in',\n",
              "       'information', 'input', 'is', 'item', 'its', 'jump', 'label',\n",
              "       'less', 'list', 'log', 'maintenance', 'management', 'manufacturer',\n",
              "       'marked', 'material', 'modified', 'modify', 'need', 'not',\n",
              "       'number', 'of', 'office', 'on', 'one', 'only', 'operate',\n",
              "       'operation', 'operations', 'operator', 'operators', 'or', 'order',\n",
              "       'out', 'own', 'page', 'parts', 'pcba', 'print', 'printing',\n",
              "       'priority', 'process', 'product', 'products', 'pull', 'received',\n",
              "       'receiving', 'record', 'red', 'registering', 'remind', 'repaired',\n",
              "       'replacement', 'replacing', 'report', 'returned', 'rights', 'role',\n",
              "       'roles', 'same', 'schedule', 'see', 'select', 'selecting', 'send',\n",
              "       'sending', 'serial', 'service', 'set', 'settings', 'several',\n",
              "       'shipped', 'site', 'situation', 'skip', 'sn', 'so', 'spare',\n",
              "       'specific', 'station', 'submit', 'support', 'system', 'tat',\n",
              "       'template', 'than', 'that', 'the', 'their', 'time', 'times', 'to',\n",
              "       'top', 'true', 'up', 'update', 'upgrade', 'upgraded', 'usage',\n",
              "       'use', 'view', 'warranty', 'waybill', 'when', 'whose', 'will',\n",
              "       'work', 'yellow', 'yes', 'you'], dtype=object)"
            ]
          },
          "metadata": {},
          "execution_count": 75
        }
      ]
    },
    {
      "cell_type": "code",
      "source": [
        "import numpy as np\n",
        "import pandas as pd\n",
        "import matplotlib.pyplot as plt\n",
        "import matplotlib.cm as cm\n",
        "\n",
        "from sklearn.cluster import KMeans, MiniBatchKMeans\n",
        "from sklearn.decomposition import PCA\n",
        "from sklearn.manifold import TSNE\n",
        "import math"
      ],
      "metadata": {
        "id": "6y62BLiDlN1c"
      },
      "execution_count": 134,
      "outputs": []
    },
    {
      "cell_type": "code",
      "source": [
        "def find_optimal_clusters(data, max_k):\n",
        "    iters = range(2, max_k+1, 1)\n",
        "    \n",
        "    sse = []\n",
        "    for k in iters:\n",
        "        sse.append(MiniBatchKMeans(n_clusters=k, init_size=1024, batch_size=2048, random_state=20).fit(data).inertia_)\n",
        "        # sse.append(KMeans(n_clusters=k).fit(data).inertia_)\n",
        "        print('Fit {} clusters'.format(k))\n",
        "        \n",
        "    f, ax = plt.subplots(1, 1)\n",
        "    ax.plot(iters, sse, marker='o')\n",
        "    ax.set_xlabel('Cluster Centers')\n",
        "    ax.set_xticks(iters)\n",
        "    ax.set_xticklabels(iters)\n",
        "    ax.set_ylabel('SSE')\n",
        "    ax.set_title('SSE by Cluster Center Plot')\n",
        "    \n",
        "find_optimal_clusters(train_tfidf, n)"
      ],
      "metadata": {
        "colab": {
          "base_uri": "https://localhost:8080/",
          "height": 636
        },
        "id": "m886tCsojnjD",
        "outputId": "4c9240a9-9b2c-4e5a-86e9-7de20520684c"
      },
      "execution_count": 136,
      "outputs": [
        {
          "output_type": "stream",
          "name": "stdout",
          "text": [
            "Fit 2 clusters\n",
            "Fit 3 clusters\n",
            "Fit 4 clusters\n",
            "Fit 5 clusters\n",
            "Fit 6 clusters\n",
            "Fit 7 clusters\n",
            "Fit 8 clusters\n",
            "Fit 9 clusters\n",
            "Fit 10 clusters\n"
          ]
        },
        {
          "output_type": "display_data",
          "data": {
            "text/plain": [
              "<Figure size 640x480 with 1 Axes>"
            ],
            "image/png": "[encoded data removed]"
          },
          "metadata": {}
        }
      ]
    },
    {
      "cell_type": "code",
      "source": [
        "clusters = MiniBatchKMeans(n_clusters=8, init_size=1024, batch_size=2048, random_state=20).fit_predict(train_tfidf)"
      ],
      "metadata": {
        "id": "XM0YvSQjlUCf"
      },
      "execution_count": 137,
      "outputs": []
    },
    {
      "cell_type": "code",
      "source": [
        "clusters"
      ],
      "metadata": {
        "colab": {
          "base_uri": "https://localhost:8080/"
        },
        "id": "9FrJO4hqpdGh",
        "outputId": "56253b80-3e59-4fad-de5f-ca0ad03669bf"
      },
      "execution_count": 138,
      "outputs": [
        {
          "output_type": "execute_result",
          "data": {
            "text/plain": [
              "array([0, 1, 6, 7, 4, 0, 5, 2, 1, 3], dtype=int32)"
            ]
          },
          "metadata": {},
          "execution_count": 138
        }
      ]
    },
    {
      "cell_type": "code",
      "source": [
        "train_tfidf.shape"
      ],
      "metadata": {
        "colab": {
          "base_uri": "https://localhost:8080/"
        },
        "id": "FM5vfTGJptyy",
        "outputId": "5985ad68-18d1-4363-a6c6-b7632a43b49d"
      },
      "execution_count": 139,
      "outputs": [
        {
          "output_type": "execute_result",
          "data": {
            "text/plain": [
              "(10, 171)"
            ]
          },
          "metadata": {},
          "execution_count": 139
        }
      ]
    },
    {
      "cell_type": "code",
      "source": [
        "import seaborn as sns\n",
        "def plot_tsne_pca(data, labels):\n",
        "\n",
        "    input = np.asarray(data.todense())\n",
        "\n",
        "    pca = pd.DataFrame(PCA(n_components=2).fit_transform(input), columns=[\"pca1\", \"pca2\"])\n",
        "    pca[\"clustering\"] = labels\n",
        "    unique = pca[\"clustering\"].unique()\n",
        "    palette = dict(zip(unique, sns.color_palette(n_colors=len(unique))))\n",
        "    fig, ax = plt.subplots(1, 1, figsize=(12,6))\n",
        "    sns.scatterplot(data=pca,x='pca1',y='pca2', hue='clustering',legend=\"full\",alpha=0.8,ax=ax, palette=palette)\n",
        "    \n",
        "plot_tsne_pca(train_tfidf, clusters)"
      ],
      "metadata": {
        "colab": {
          "base_uri": "https://localhost:8080/",
          "height": 477
        },
        "id": "v6HX4d8TmZSu",
        "outputId": "0ad5deed-4463-4484-a62c-e1954750fa29"
      },
      "execution_count": 148,
      "outputs": [
        {
          "output_type": "display_data",
          "data": {
            "text/plain": [
              "<Figure size 1200x600 with 1 Axes>"
            ],
            "image/png": "[encoded data removed]"
          },
          "metadata": {}
        }
      ]
    },
    {
      "cell_type": "code",
      "source": [
        "def get_top_keywords(data, clusters, labels, n_terms):\n",
        "    df = pd.DataFrame(data.todense()).groupby(clusters).mean()\n",
        "    \n",
        "    for i,r in df.iterrows():\n",
        "        print('\\nCluster {}'.format(i))\n",
        "        print(','.join([labels[t] for t in np.argsort(r)[-n_terms:]]))\n",
        "            \n",
        "get_top_keywords(train_tfidf, clusters, tfidf.get_feature_names_out(), 10)"
      ],
      "metadata": {
        "colab": {
          "base_uri": "https://localhost:8080/"
        },
        "id": "Y1EWREPemjmU",
        "outputId": "eeea2804-594d-4afd-9b0f-c0c7e9d4ba20"
      },
      "execution_count": 149,
      "outputs": [
        {
          "output_type": "stream",
          "name": "stdout",
          "text": [
            "\n",
            "Cluster 0\n",
            "to,enter,skip,spare,parts,of,maintenance,in,schedule,the\n",
            "\n",
            "Cluster 1\n",
            "customer,be,of,waybill,to,and,sending,receiving,the,goods\n",
            "\n",
            "Cluster 2\n",
            "click,to,can,check,set,product,the,operator,station,settings\n",
            "\n",
            "Cluster 3\n",
            "or,marked,custom,to,the,is,greater,day,than,tat\n",
            "\n",
            "Cluster 4\n",
            "situation,code,during,can,different,operation,fault,guidance,according,the\n",
            "\n",
            "Cluster 5\n",
            "registering,own,only,their,can,different,operator,roles,data,rights\n",
            "\n",
            "Cluster 6\n",
            "content,by,contact,can,at,station,label,printing,factory,the\n",
            "\n",
            "Cluster 7\n",
            "pcba,to,parts,replacement,number,enter,page,and,the,upgrade\n"
          ]
        }
      ]
    },
    {
      "cell_type": "code",
      "source": [
        "faq['clustering'] = clusters\n",
        "faq.head()"
      ],
      "metadata": {
        "colab": {
          "base_uri": "https://localhost:8080/",
          "height": 389
        },
        "id": "38k_lD8btGjc",
        "outputId": "09810f3e-2a20-4bb9-e698-2da0722ca0e7"
      },
      "execution_count": 152,
      "outputs": [
        {
          "output_type": "execute_result",
          "data": {
            "text/plain": [
              "                                            question  \\\n",
              "0         How to jump to the specified work station?   \n",
              "1  How to deal with the discrepancy between the r...   \n",
              "2  How to modify the content of the label printed...   \n",
              "3  How to upgrade Product SN after replacing spar...   \n",
              "4        How to work with multiple product failures?   \n",
              "\n",
              "                                               reply  \\\n",
              "0  You need to log in the administrator account, ...   \n",
              "1  Background of Service Center -> Receiving and ...   \n",
              "2  The service center can contact the manufacture...   \n",
              "3  Click `Parts Replacement` to enter the spare p...   \n",
              "4  During the operation of service center, the [W...   \n",
              "\n",
              "                                    Similar question  \\\n",
              "0  How to return to the previous station? / How c...   \n",
              "1  How to deal with the discrepancy? / What if th...   \n",
              "2  Can the content of the label printed by the wo...   \n",
              "3  How to upgrade the SN after replacing the PCBA...   \n",
              "4  Meet a variety of bad how to deal with? How to...   \n",
              "\n",
              "                                               tfidf  clustering  \n",
              "0  [0.0, 0.13059249446406113, 0.0, 0.153621717161...           0  \n",
              "1  [0.0, 0.0, 0.0, 0.0, 0.0, 0.13140786205855845,...           1  \n",
              "2  [0.0, 0.0, 0.0, 0.0, 0.0, 0.0, 0.0, 0.0, 0.0, ...           6  \n",
              "3  [0.0, 0.0, 0.0, 0.0, 0.10546317532403915, 0.0,...           7  \n",
              "4  [0.3052216076243383, 0.0, 0.15261080381216915,...           4  "
            ],
            "text/html": [
              "\n",
              "  <div id=\"df-841038b6-4f05-404d-95f5-97c027e8b453\">\n",
              "    <div class=\"colab-df-container\">\n",
              "      <div>\n",
              "<style scoped>\n",
              "    .dataframe tbody tr th:only-of-type {\n",
              "        vertical-align: middle;\n",
              "    }\n",
              "\n",
              "    .dataframe tbody tr th {\n",
              "        vertical-align: top;\n",
              "    }\n",
              "\n",
              "    .dataframe thead th {\n",
              "        text-align: right;\n",
              "    }\n",
              "</style>\n",
              "<table border=\"1\" class=\"dataframe\">\n",
              "  <thead>\n",
              "    <tr style=\"text-align: right;\">\n",
              "      <th></th>\n",
              "      <th>question</th>\n",
              "      <th>reply</th>\n",
              "      <th>Similar question</th>\n",
              "      <th>tfidf</th>\n",
              "      <th>clustering</th>\n",
              "    </tr>\n",
              "  </thead>\n",
              "  <tbody>\n",
              "    <tr>\n",
              "      <th>0</th>\n",
              "      <td>How to jump to the specified work station?</td>\n",
              "      <td>You need to log in the administrator account, ...</td>\n",
              "      <td>How to return to the previous station? / How c...</td>\n",
              "      <td>[0.0, 0.13059249446406113, 0.0, 0.153621717161...</td>\n",
              "      <td>0</td>\n",
              "    </tr>\n",
              "    <tr>\n",
              "      <th>1</th>\n",
              "      <td>How to deal with the discrepancy between the r...</td>\n",
              "      <td>Background of Service Center -&gt; Receiving and ...</td>\n",
              "      <td>How to deal with the discrepancy? / What if th...</td>\n",
              "      <td>[0.0, 0.0, 0.0, 0.0, 0.0, 0.13140786205855845,...</td>\n",
              "      <td>1</td>\n",
              "    </tr>\n",
              "    <tr>\n",
              "      <th>2</th>\n",
              "      <td>How to modify the content of the label printed...</td>\n",
              "      <td>The service center can contact the manufacture...</td>\n",
              "      <td>Can the content of the label printed by the wo...</td>\n",
              "      <td>[0.0, 0.0, 0.0, 0.0, 0.0, 0.0, 0.0, 0.0, 0.0, ...</td>\n",
              "      <td>6</td>\n",
              "    </tr>\n",
              "    <tr>\n",
              "      <th>3</th>\n",
              "      <td>How to upgrade Product SN after replacing spar...</td>\n",
              "      <td>Click `Parts Replacement` to enter the spare p...</td>\n",
              "      <td>How to upgrade the SN after replacing the PCBA...</td>\n",
              "      <td>[0.0, 0.0, 0.0, 0.0, 0.10546317532403915, 0.0,...</td>\n",
              "      <td>7</td>\n",
              "    </tr>\n",
              "    <tr>\n",
              "      <th>4</th>\n",
              "      <td>How to work with multiple product failures?</td>\n",
              "      <td>During the operation of service center, the [W...</td>\n",
              "      <td>Meet a variety of bad how to deal with? How to...</td>\n",
              "      <td>[0.3052216076243383, 0.0, 0.15261080381216915,...</td>\n",
              "      <td>4</td>\n",
              "    </tr>\n",
              "  </tbody>\n",
              "</table>\n",
              "</div>\n",
              "      <button class=\"colab-df-convert\" onclick=\"convertToInteractive('df-841038b6-4f05-404d-95f5-97c027e8b453')\"\n",
              "              title=\"Convert this dataframe to an interactive table.\"\n",
              "              style=\"display:none;\">\n",
              "        \n",
              "  <svg xmlns=\"http://www.w3.org/2000/svg\" height=\"24px\"viewBox=\"0 0 24 24\"\n",
              "       width=\"24px\">\n",
              "    <path d=\"M0 0h24v24H0V0z\" fill=\"none\"/>\n",
              "    <path d=\"M18.56 5.44l.94 2.06.94-2.06 2.06-.94-2.06-.94-.94-2.06-.94 2.06-2.06.94zm-11 1L8.5 8.5l.94-2.06 2.06-.94-2.06-.94L8.5 2.5l-.94 2.06-2.06.94zm10 10l.94 2.06.94-2.06 2.06-.94-2.06-.94-.94-2.06-.94 2.06-2.06.94z\"/><path d=\"M17.41 7.96l-1.37-1.37c-.4-.4-.92-.59-1.43-.59-.52 0-1.04.2-1.43.59L10.3 9.45l-7.72 7.72c-.78.78-.78 2.05 0 2.83L4 21.41c.39.39.9.59 1.41.59.51 0 1.02-.2 1.41-.59l7.78-7.78 2.81-2.81c.8-.78.8-2.07 0-2.86zM5.41 20L4 18.59l7.72-7.72 1.47 1.35L5.41 20z\"/>\n",
              "  </svg>\n",
              "      </button>\n",
              "      \n",
              "  <style>\n",
              "    .colab-df-container {\n",
              "      display:flex;\n",
              "      flex-wrap:wrap;\n",
              "      gap: 12px;\n",
              "    }\n",
              "\n",
              "    .colab-df-convert {\n",
              "      background-color: #E8F0FE;\n",
              "      border: none;\n",
              "      border-radius: 50%;\n",
              "      cursor: pointer;\n",
              "      display: none;\n",
              "      fill: #1967D2;\n",
              "      height: 32px;\n",
              "      padding: 0 0 0 0;\n",
              "      width: 32px;\n",
              "    }\n",
              "\n",
              "    .colab-df-convert:hover {\n",
              "      background-color: #E2EBFA;\n",
              "      box-shadow: 0px 1px 2px rgba(60, 64, 67, 0.3), 0px 1px 3px 1px rgba(60, 64, 67, 0.15);\n",
              "      fill: #174EA6;\n",
              "    }\n",
              "\n",
              "    [theme=dark] .colab-df-convert {\n",
              "      background-color: #3B4455;\n",
              "      fill: #D2E3FC;\n",
              "    }\n",
              "\n",
              "    [theme=dark] .colab-df-convert:hover {\n",
              "      background-color: #434B5C;\n",
              "      box-shadow: 0px 1px 3px 1px rgba(0, 0, 0, 0.15);\n",
              "      filter: drop-shadow(0px 1px 2px rgba(0, 0, 0, 0.3));\n",
              "      fill: #FFFFFF;\n",
              "    }\n",
              "  </style>\n",
              "\n",
              "      <script>\n",
              "        const buttonEl =\n",
              "          document.querySelector('#df-841038b6-4f05-404d-95f5-97c027e8b453 button.colab-df-convert');\n",
              "        buttonEl.style.display =\n",
              "          google.colab.kernel.accessAllowed ? 'block' : 'none';\n",
              "\n",
              "        async function convertToInteractive(key) {\n",
              "          const element = document.querySelector('#df-841038b6-4f05-404d-95f5-97c027e8b453');\n",
              "          const dataTable =\n",
              "            await google.colab.kernel.invokeFunction('convertToInteractive',\n",
              "                                                     [key], {});\n",
              "          if (!dataTable) return;\n",
              "\n",
              "          const docLinkHtml = 'Like what you see? Visit the ' +\n",
              "            '<a target=\"_blank\" href=https://colab.research.google.com/notebooks/data_table.ipynb>data table notebook</a>'\n",
              "            + ' to learn more about interactive tables.';\n",
              "          element.innerHTML = '';\n",
              "          dataTable['output_type'] = 'display_data';\n",
              "          await google.colab.output.renderOutput(dataTable, element);\n",
              "          const docLink = document.createElement('div');\n",
              "          docLink.innerHTML = docLinkHtml;\n",
              "          element.appendChild(docLink);\n",
              "        }\n",
              "      </script>\n",
              "    </div>\n",
              "  </div>\n",
              "  "
            ]
          },
          "metadata": {},
          "execution_count": 152
        }
      ]
    },
    {
      "cell_type": "code",
      "source": [
        "faq[faq['clustering'] == 1]"
      ],
      "metadata": {
        "colab": {
          "base_uri": "https://localhost:8080/",
          "height": 208
        },
        "id": "6OzKnfP6vJdh",
        "outputId": "b6ba2d29-67df-40cb-de94-5788afeda6b9"
      },
      "execution_count": 153,
      "outputs": [
        {
          "output_type": "execute_result",
          "data": {
            "text/plain": [
              "                                            question  \\\n",
              "1  How to deal with the discrepancy between the r...   \n",
              "8      Where is the logistics waybill label printed?   \n",
              "\n",
              "                                               reply  \\\n",
              "1  Background of Service Center -> Receiving and ...   \n",
              "8  At the end of the case, if `Generate Waybill l...   \n",
              "\n",
              "                                    Similar question  \\\n",
              "1  How to deal with the discrepancy? / What if th...   \n",
              "8  Can I print the waybill label after the case i...   \n",
              "\n",
              "                                               tfidf  clustering  \n",
              "1  [0.0, 0.0, 0.0, 0.0, 0.0, 0.13140786205855845,...           1  \n",
              "8  [0.0, 0.0, 0.0, 0.0, 0.11381720381762651, 0.0,...           1  "
            ],
            "text/html": [
              "\n",
              "  <div id=\"df-12c2e613-d002-41af-ab4e-18d9d0f053be\">\n",
              "    <div class=\"colab-df-container\">\n",
              "      <div>\n",
              "<style scoped>\n",
              "    .dataframe tbody tr th:only-of-type {\n",
              "        vertical-align: middle;\n",
              "    }\n",
              "\n",
              "    .dataframe tbody tr th {\n",
              "        vertical-align: top;\n",
              "    }\n",
              "\n",
              "    .dataframe thead th {\n",
              "        text-align: right;\n",
              "    }\n",
              "</style>\n",
              "<table border=\"1\" class=\"dataframe\">\n",
              "  <thead>\n",
              "    <tr style=\"text-align: right;\">\n",
              "      <th></th>\n",
              "      <th>question</th>\n",
              "      <th>reply</th>\n",
              "      <th>Similar question</th>\n",
              "      <th>tfidf</th>\n",
              "      <th>clustering</th>\n",
              "    </tr>\n",
              "  </thead>\n",
              "  <tbody>\n",
              "    <tr>\n",
              "      <th>1</th>\n",
              "      <td>How to deal with the discrepancy between the r...</td>\n",
              "      <td>Background of Service Center -&gt; Receiving and ...</td>\n",
              "      <td>How to deal with the discrepancy? / What if th...</td>\n",
              "      <td>[0.0, 0.0, 0.0, 0.0, 0.0, 0.13140786205855845,...</td>\n",
              "      <td>1</td>\n",
              "    </tr>\n",
              "    <tr>\n",
              "      <th>8</th>\n",
              "      <td>Where is the logistics waybill label printed?</td>\n",
              "      <td>At the end of the case, if `Generate Waybill l...</td>\n",
              "      <td>Can I print the waybill label after the case i...</td>\n",
              "      <td>[0.0, 0.0, 0.0, 0.0, 0.11381720381762651, 0.0,...</td>\n",
              "      <td>1</td>\n",
              "    </tr>\n",
              "  </tbody>\n",
              "</table>\n",
              "</div>\n",
              "      <button class=\"colab-df-convert\" onclick=\"convertToInteractive('df-12c2e613-d002-41af-ab4e-18d9d0f053be')\"\n",
              "              title=\"Convert this dataframe to an interactive table.\"\n",
              "              style=\"display:none;\">\n",
              "        \n",
              "  <svg xmlns=\"http://www.w3.org/2000/svg\" height=\"24px\"viewBox=\"0 0 24 24\"\n",
              "       width=\"24px\">\n",
              "    <path d=\"M0 0h24v24H0V0z\" fill=\"none\"/>\n",
              "    <path d=\"M18.56 5.44l.94 2.06.94-2.06 2.06-.94-2.06-.94-.94-2.06-.94 2.06-2.06.94zm-11 1L8.5 8.5l.94-2.06 2.06-.94-2.06-.94L8.5 2.5l-.94 2.06-2.06.94zm10 10l.94 2.06.94-2.06 2.06-.94-2.06-.94-.94-2.06-.94 2.06-2.06.94z\"/><path d=\"M17.41 7.96l-1.37-1.37c-.4-.4-.92-.59-1.43-.59-.52 0-1.04.2-1.43.59L10.3 9.45l-7.72 7.72c-.78.78-.78 2.05 0 2.83L4 21.41c.39.39.9.59 1.41.59.51 0 1.02-.2 1.41-.59l7.78-7.78 2.81-2.81c.8-.78.8-2.07 0-2.86zM5.41 20L4 18.59l7.72-7.72 1.47 1.35L5.41 20z\"/>\n",
              "  </svg>\n",
              "      </button>\n",
              "      \n",
              "  <style>\n",
              "    .colab-df-container {\n",
              "      display:flex;\n",
              "      flex-wrap:wrap;\n",
              "      gap: 12px;\n",
              "    }\n",
              "\n",
              "    .colab-df-convert {\n",
              "      background-color: #E8F0FE;\n",
              "      border: none;\n",
              "      border-radius: 50%;\n",
              "      cursor: pointer;\n",
              "      display: none;\n",
              "      fill: #1967D2;\n",
              "      height: 32px;\n",
              "      padding: 0 0 0 0;\n",
              "      width: 32px;\n",
              "    }\n",
              "\n",
              "    .colab-df-convert:hover {\n",
              "      background-color: #E2EBFA;\n",
              "      box-shadow: 0px 1px 2px rgba(60, 64, 67, 0.3), 0px 1px 3px 1px rgba(60, 64, 67, 0.15);\n",
              "      fill: #174EA6;\n",
              "    }\n",
              "\n",
              "    [theme=dark] .colab-df-convert {\n",
              "      background-color: #3B4455;\n",
              "      fill: #D2E3FC;\n",
              "    }\n",
              "\n",
              "    [theme=dark] .colab-df-convert:hover {\n",
              "      background-color: #434B5C;\n",
              "      box-shadow: 0px 1px 3px 1px rgba(0, 0, 0, 0.15);\n",
              "      filter: drop-shadow(0px 1px 2px rgba(0, 0, 0, 0.3));\n",
              "      fill: #FFFFFF;\n",
              "    }\n",
              "  </style>\n",
              "\n",
              "      <script>\n",
              "        const buttonEl =\n",
              "          document.querySelector('#df-12c2e613-d002-41af-ab4e-18d9d0f053be button.colab-df-convert');\n",
              "        buttonEl.style.display =\n",
              "          google.colab.kernel.accessAllowed ? 'block' : 'none';\n",
              "\n",
              "        async function convertToInteractive(key) {\n",
              "          const element = document.querySelector('#df-12c2e613-d002-41af-ab4e-18d9d0f053be');\n",
              "          const dataTable =\n",
              "            await google.colab.kernel.invokeFunction('convertToInteractive',\n",
              "                                                     [key], {});\n",
              "          if (!dataTable) return;\n",
              "\n",
              "          const docLinkHtml = 'Like what you see? Visit the ' +\n",
              "            '<a target=\"_blank\" href=https://colab.research.google.com/notebooks/data_table.ipynb>data table notebook</a>'\n",
              "            + ' to learn more about interactive tables.';\n",
              "          element.innerHTML = '';\n",
              "          dataTable['output_type'] = 'display_data';\n",
              "          await google.colab.output.renderOutput(dataTable, element);\n",
              "          const docLink = document.createElement('div');\n",
              "          docLink.innerHTML = docLinkHtml;\n",
              "          element.appendChild(docLink);\n",
              "        }\n",
              "      </script>\n",
              "    </div>\n",
              "  </div>\n",
              "  "
            ]
          },
          "metadata": {},
          "execution_count": 153
        }
      ]
    },
    {
      "cell_type": "markdown",
      "source": [
        "# Reference\n",
        "\n",
        "- [Seaborn - change color according to hue name](https://stackoverflow.com/questions/46173419/seaborn-change-color-according-to-hue-name)\n",
        "\n",
        "- https://www.kaggle.com/code/aussie84/clustering-with-kmeans-pca-tsne\n",
        "\n",
        "- https://www.kaggle.com/code/jbencina/clustering-documents-with-tfidf-and-kmeans"
      ],
      "metadata": {
        "id": "9OvrYEy8wS6b"
      }
    },
    {
      "cell_type": "code",
      "source": [],
      "metadata": {
        "id": "6f7lKeo_vXMo"
      },
      "execution_count": null,
      "outputs": []
    }
  ]
}